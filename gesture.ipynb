{
 "cells": [
  {
   "cell_type": "code",
   "execution_count": null,
   "metadata": {},
   "outputs": [],
   "source": [
    "num_output=3\n",
    "from tensorflow.keras.models import Sequential\n",
    "import tensorflow as tf\n",
    "from tensorflow.keras.layers import Dense, Conv2D, Flatten, Dropout, MaxPooling2D\n",
    "from tensorflow.keras.preprocessing.image import ImageDataGenerator\n",
    "\n",
    "import os\n",
    "import numpy as np\n",
    "import matplotlib.pyplot as plt\n",
    "model = tf.keras.applications.ResNet50(weights='imagenet')\n",
    "base_model = tf.keras.applications.ResNet50(weights='imagenet', include_top = False)\n",
    "x = base_model.output\n",
    "x = tf.keras.layers.GlobalAveragePooling2D()(x)\n",
    "x = tf.keras.layers.Dense(1024, activation='relu')(x)\n",
    "x = tf.keras.layers.Dense(1024, activation='relu')(x)\n",
    "x = tf.keras.layers.Dense(1024, activation='relu')(x)\n",
    "x = tf.keras.layers.Dense(512, activation='relu')(x)\n",
    "preds = tf.keras.layers.Dense(num_output, activation ='softmax')(x)\n",
    "model = tf.keras.models.Model(inputs=base_model.input, outputs=preds)\n",
    "for layer in model.layers[:175]:\n",
    "    layer.trainable = False\n",
    "for layer in model.layers[175:]:\n",
    "    layer.trainable = True"
   ]
  },
  {
   "cell_type": "code",
   "execution_count": null,
   "metadata": {},
   "outputs": [],
   "source": [
    "train_datagen = tf.keras.preprocessing.image.ImageDataGenerator(preprocessing_function=tf.keras.applications.resnet50.preprocess_input)\n",
    "test_datagen = tf.keras.preprocessing.image.ImageDataGenerator(preprocessing_function=tf.keras.applications.resnet50.preprocess_input)\n"
   ]
  },
  {
   "cell_type": "code",
   "execution_count": null,
   "metadata": {},
   "outputs": [],
   "source": [
    "train_generator = train_datagen.flow_from_directory(r\"C:\\Users\\Pratham Nishad\\Desktop\\screenshot\\train\", \n",
    "                                                   target_size = (150, 150),\n",
    "                                                   color_mode = 'rgb',\n",
    "                                                   batch_size = 32,\n",
    "                                                   class_mode = 'categorical',\n",
    "                                                   shuffle = True)\n"
   ]
  },
  {
   "cell_type": "code",
   "execution_count": null,
   "metadata": {},
   "outputs": [],
   "source": [
    "test_generator = test_datagen.flow_from_directory(r\"C:\\Users\\Pratham Nishad\\Desktop\\screenshot\\test\", \n",
    "                                                   target_size = (150, 150),\n",
    "                                                   color_mode = 'rgb',\n",
    "                                                   batch_size = 5,\n",
    "                                                   class_mode = 'categorical')\n"
   ]
  },
  {
   "cell_type": "code",
   "execution_count": null,
   "metadata": {},
   "outputs": [],
   "source": [
    "model.compile(optimizer='Adam', loss='categorical_crossentropy', metrics=['accuracy'])"
   ]
  },
  {
   "cell_type": "code",
   "execution_count": null,
   "metadata": {},
   "outputs": [],
   "source": [
    "history = model.fit_generator(generator = train_generator, steps_per_epoch=train_generator.n//train_generator.batch_size, epochs = 3, validation_data=test_generator)"
   ]
  },
  {
   "cell_type": "code",
   "execution_count": null,
   "metadata": {},
   "outputs": [],
   "source": [
    "model.save(r\"C:\\Users\\Pratham Nishad\\Desktop\\models\\screenshot.h5\")"
   ]
  },
  {
   "cell_type": "code",
   "execution_count": null,
   "metadata": {},
   "outputs": [],
   "source": [
    "import numpy as np\n",
    "new_model = tf.keras.models.load_model(r'C:\\Users\\Pratham Nishad\\Desktop\\models\\screenshot.h5')"
   ]
  },
  {
   "cell_type": "code",
   "execution_count": null,
   "metadata": {},
   "outputs": [],
   "source": [
    "import cv2\n",
    "import time\n",
    "import pyautogui\n",
    "run=1\n",
    "# cap.set(cv2.CAP_PROP_FRAME_WIDTH,224);\n",
    "# cap.set(cv2.CAP_PROP_FRAME_HEIGHT,224);\n",
    "cap= cv2.VideoCapture(0)\n",
    "i=1\n",
    "ss=0\n",
    "face=0\n",
    "back=0\n",
    "while(cap.isOpened()):\n",
    "    ret, frame = cap.read()\n",
    "    if ret == False:\n",
    "        break\n",
    "    cv2.imwrite('C:/Users/Pratham Nishad/Desktop/image/valid/'+'face'+str(i)+'.jpg',frame)\n",
    "    Sample_Image=cv2.imread('C:/Users/Pratham Nishad/Desktop/image/valid/'+'face'+str(i)+'.jpg')\n",
    "    Sample_Image = tf.keras.preprocessing.image.img_to_array(Sample_Image)\n",
    "    Sample_Image = np.expand_dims(Sample_Image, axis = 0)\n",
    "    Sample_Image = tf.keras.applications.resnet50.preprocess_input(Sample_Image)\n",
    "    predictions = new_model.predict(Sample_Image)\n",
    "    if np.argmax(predictions[0])!=2:\n",
    "        if np.argmax(predictions[0])==1:\n",
    "            face=1\n",
    "            back=0\n",
    "        else:\n",
    "            back=1\n",
    "            face=0\n",
    "        if ss!=0:\n",
    "            ss=0\n",
    "        if ss==5:\n",
    "            ss=0\n",
    "        if predictions[0][0]>predictions[0][1]:\n",
    "            if run==1:\n",
    "                pyautogui.keyDown('space')\n",
    "                run=0\n",
    "            else:\n",
    "                pass\n",
    "        if predictions[0][0]<predictions[0][1]:\n",
    "            if run==1:\n",
    "                pass\n",
    "            else:\n",
    "                run=1\n",
    "                pyautogui.keyDown('space')\n",
    "    else:\n",
    "        if ss==0 and face==1:\n",
    "            ss+=1\n",
    "            face=0\n",
    "            pyautogui.screenshot(f'C:/Users/Pratham Nishad/Desktop/screenshot_images/image{time.time()}.jpg')\n",
    "            pyautogui.alert(text=f'File name is image{time.time()}.jpg', title='Done', button=[\"OK\"])\n",
    "        else:\n",
    "            ss+=1\n",
    "    print('Predictions:', predictions)\n",
    "    i+=1\n",
    "    if cv2.waitKey(1) & 0xFF == ord('q'): \n",
    "        break\n",
    "    try:   \n",
    "        pass\n",
    "#         os.remove('C:/Users/Pratham Nishad/Desktop/image/valid/'+'face'+str(i-1)+'.jpg')\n",
    "    except: pass\n",
    "cap.release()\n",
    "cv2.destroyAllWindows()"
   ]
  },
  {
   "cell_type": "code",
   "execution_count": null,
   "metadata": {},
   "outputs": [],
   "source": []
  },
  {
   "cell_type": "code",
   "execution_count": null,
   "metadata": {},
   "outputs": [],
   "source": []
  },
  {
   "cell_type": "code",
   "execution_count": null,
   "metadata": {},
   "outputs": [],
   "source": []
  },
  {
   "cell_type": "code",
   "execution_count": null,
   "metadata": {},
   "outputs": [],
   "source": []
  },
  {
   "cell_type": "code",
   "execution_count": null,
   "metadata": {},
   "outputs": [],
   "source": []
  }
 ],
 "metadata": {
  "kernelspec": {
   "display_name": "Python 3",
   "language": "python",
   "name": "python3"
  },
  "language_info": {
   "codemirror_mode": {
    "name": "ipython",
    "version": 3
   },
   "file_extension": ".py",
   "mimetype": "text/x-python",
   "name": "python",
   "nbconvert_exporter": "python",
   "pygments_lexer": "ipython3",
   "version": "3.7.1"
  }
 },
 "nbformat": 4,
 "nbformat_minor": 2
}
